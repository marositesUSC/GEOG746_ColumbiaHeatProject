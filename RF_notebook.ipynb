{
 "cells": [
  {
   "cell_type": "markdown",
   "metadata": {},
   "source": [
    "# Random Forest Model"
   ]
  },
  {
   "cell_type": "code",
   "execution_count": 37,
   "metadata": {},
   "outputs": [],
   "source": [
    "# Imports\n",
    "import pandas as pd\n",
    "from sklearn.metrics import mean_absolute_error\n",
    "from sklearn.model_selection import train_test_split\n",
    "from sklearn.tree import DecisionTreeRegressor\n",
    "from sklearn.ensemble import RandomForestRegressor\n",
    "\n",
    "import matplotlib.pyplot as plt\n"
   ]
  },
  {
   "cell_type": "code",
   "execution_count": 38,
   "metadata": {},
   "outputs": [
    {
     "data": {
      "text/plain": [
       "count    11358.000000\n",
       "mean        77.290095\n",
       "std          1.189328\n",
       "min         73.700000\n",
       "25%         76.600000\n",
       "50%         77.200000\n",
       "75%         78.000000\n",
       "max         82.000000\n",
       "Name: temp_f, dtype: float64"
      ]
     },
     "execution_count": 38,
     "metadata": {},
     "output_type": "execute_result"
    }
   ],
   "source": [
    "file_path = 'am_TEST_data.csv'\n",
    "trans_data = pd.read_csv(file_path)\n",
    "\n",
    "# target target variable\n",
    "y = trans_data['temp_f']\n",
    "y.describe()"
   ]
  },
  {
   "cell_type": "code",
   "execution_count": 39,
   "metadata": {},
   "outputs": [
    {
     "data": {
      "text/html": [
       "<div>\n",
       "<style scoped>\n",
       "    .dataframe tbody tr th:only-of-type {\n",
       "        vertical-align: middle;\n",
       "    }\n",
       "\n",
       "    .dataframe tbody tr th {\n",
       "        vertical-align: top;\n",
       "    }\n",
       "\n",
       "    .dataframe thead th {\n",
       "        text-align: right;\n",
       "    }\n",
       "</style>\n",
       "<table border=\"1\" class=\"dataframe\">\n",
       "  <thead>\n",
       "    <tr style=\"text-align: right;\">\n",
       "      <th></th>\n",
       "      <th>Elevation</th>\n",
       "      <th>Slope</th>\n",
       "      <th>Aspect</th>\n",
       "      <th>NDVI</th>\n",
       "    </tr>\n",
       "  </thead>\n",
       "  <tbody>\n",
       "    <tr>\n",
       "      <th>0</th>\n",
       "      <td>226.056</td>\n",
       "      <td>3.90983</td>\n",
       "      <td>254.123</td>\n",
       "      <td>0.189299</td>\n",
       "    </tr>\n",
       "    <tr>\n",
       "      <th>1</th>\n",
       "      <td>228.162</td>\n",
       "      <td>4.19769</td>\n",
       "      <td>251.087</td>\n",
       "      <td>0.234387</td>\n",
       "    </tr>\n",
       "    <tr>\n",
       "      <th>2</th>\n",
       "      <td>230.598</td>\n",
       "      <td>4.37764</td>\n",
       "      <td>243.742</td>\n",
       "      <td>0.234387</td>\n",
       "    </tr>\n",
       "    <tr>\n",
       "      <th>3</th>\n",
       "      <td>235.317</td>\n",
       "      <td>3.83379</td>\n",
       "      <td>243.522</td>\n",
       "      <td>0.485529</td>\n",
       "    </tr>\n",
       "    <tr>\n",
       "      <th>4</th>\n",
       "      <td>238.038</td>\n",
       "      <td>4.56426</td>\n",
       "      <td>245.689</td>\n",
       "      <td>0.485529</td>\n",
       "    </tr>\n",
       "  </tbody>\n",
       "</table>\n",
       "</div>"
      ],
      "text/plain": [
       "   Elevation    Slope   Aspect      NDVI\n",
       "0    226.056  3.90983  254.123  0.189299\n",
       "1    228.162  4.19769  251.087  0.234387\n",
       "2    230.598  4.37764  243.742  0.234387\n",
       "3    235.317  3.83379  243.522  0.485529\n",
       "4    238.038  4.56426  245.689  0.485529"
      ]
     },
     "execution_count": 39,
     "metadata": {},
     "output_type": "execute_result"
    }
   ],
   "source": [
    "# create independent vars\n",
    "variables = trans_data.columns\n",
    "dependent_variables = ['temp_f', 'rh', 'hi_f']\n",
    "independent_vars = [var for var in variables if var not in dependent_variables]\n",
    "X = trans_data[independent_vars]\n",
    "X.head()"
   ]
  },
  {
   "cell_type": "code",
   "execution_count": 40,
   "metadata": {},
   "outputs": [
    {
     "name": "stdout",
     "output_type": "stream",
     "text": [
      "Validation MAE when not specifying max_leaf_nodes: 0.5154952539724887\n"
     ]
    }
   ],
   "source": [
    "# split into training and validation\n",
    "train_X, val_X, train_y, val_y = train_test_split(X, y, test_size=.33, random_state=1)\n",
    "\n",
    "# Specify Model\n",
    "temp_model = RandomForestRegressor(random_state=1)\n",
    "# Fit Model\n",
    "temp_model.fit(train_X, train_y)\n",
    "\n",
    "# Make Predictions\n",
    "val_predictions = temp_model.predict(val_X)\n",
    "val_mae = mean_absolute_error(val_predictions, val_y)\n",
    "print(\"Validation MAE when not specifying max_leaf_nodes: {}\".format(val_mae))\n"
   ]
  }
 ],
 "metadata": {
  "kernelspec": {
   "display_name": "Python 3",
   "language": "python",
   "name": "python3"
  },
  "language_info": {
   "codemirror_mode": {
    "name": "ipython",
    "version": 3
   },
   "file_extension": ".py",
   "mimetype": "text/x-python",
   "name": "python",
   "nbconvert_exporter": "python",
   "pygments_lexer": "ipython3",
   "version": "3.12.5"
  }
 },
 "nbformat": 4,
 "nbformat_minor": 2
}
